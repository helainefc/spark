{
 "cells": [
  {
   "cell_type": "code",
   "execution_count": 1,
   "metadata": {},
   "outputs": [],
   "source": [
    "%%init_spark\n",
    "# Configure Spark to use a local master\n",
    "launcher.master = \"local\""
   ]
  },
  {
   "cell_type": "code",
   "execution_count": 2,
   "metadata": {},
   "outputs": [
    {
     "data": {
      "text/plain": [
       "Intitializing Scala interpreter ..."
      ]
     },
     "metadata": {},
     "output_type": "display_data"
    },
    {
     "data": {
      "text/plain": [
       "Spark Web UI available at http://9a9c2e1d7612:4041\n",
       "SparkContext available as 'sc' (version = 3.0.0, master = local, app id = local-1597110705188)\n",
       "SparkSession available as 'spark'\n"
      ]
     },
     "metadata": {},
     "output_type": "display_data"
    },
    {
     "data": {
      "text/plain": [
       "import org.apache.spark.sql.functions.{window, column, desc, col, count}\n",
       "import org.apache.spark.sql.expressions.Window\n"
      ]
     },
     "execution_count": 2,
     "metadata": {},
     "output_type": "execute_result"
    }
   ],
   "source": [
    "import org.apache.spark.sql.functions.{window, column, desc, col,count}\n",
    "import org.apache.spark.sql.expressions.Window"
   ]
  },
  {
   "cell_type": "code",
   "execution_count": 3,
   "metadata": {},
   "outputs": [
    {
     "data": {
      "text/plain": [
       "df: org.apache.spark.sql.DataFrame = [producto: string, presentacion: string ... 13 more fields]\n"
      ]
     },
     "execution_count": 3,
     "metadata": {},
     "output_type": "execute_result"
    }
   ],
   "source": [
    "val df = spark.read.format(\"csv\").option(\"header\", \"true\").load(\"data/all_data.csv\")"
   ]
  },
  {
   "cell_type": "code",
   "execution_count": 4,
   "metadata": {},
   "outputs": [
    {
     "name": "stdout",
     "output_type": "stream",
     "text": [
      "root\n",
      " |-- producto: string (nullable = true)\n",
      " |-- presentacion: string (nullable = true)\n",
      " |-- marca: string (nullable = true)\n",
      " |-- categoria: string (nullable = true)\n",
      " |-- catalogo: string (nullable = true)\n",
      " |-- precio: string (nullable = true)\n",
      " |-- fechaRegistro: string (nullable = true)\n",
      " |-- cadenaComercial: string (nullable = true)\n",
      " |-- giro: string (nullable = true)\n",
      " |-- nombreComercial: string (nullable = true)\n",
      " |-- direccion: string (nullable = true)\n",
      " |-- estado: string (nullable = true)\n",
      " |-- municipio: string (nullable = true)\n",
      " |-- latitud: string (nullable = true)\n",
      " |-- longitud: string (nullable = true)\n",
      "\n"
     ]
    }
   ],
   "source": [
    "df.printSchema()"
   ]
  },
  {
   "cell_type": "markdown",
   "metadata": {},
   "source": [
    "### 1. ¿Cuántos registros hay?"
   ]
  },
  {
   "cell_type": "code",
   "execution_count": 5,
   "metadata": {},
   "outputs": [
    {
     "data": {
      "text/plain": [
       "totalRegistros: Long = 62530715\n"
      ]
     },
     "execution_count": 5,
     "metadata": {},
     "output_type": "execute_result"
    }
   ],
   "source": [
    "val totalRegistros = df.count()"
   ]
  },
  {
   "cell_type": "code",
   "execution_count": 6,
   "metadata": {},
   "outputs": [
    {
     "data": {
      "text/plain": [
       "res1: Long = 62530715\n"
      ]
     },
     "execution_count": 6,
     "metadata": {},
     "output_type": "execute_result"
    }
   ],
   "source": [
    "totalRegistros"
   ]
  },
  {
   "cell_type": "markdown",
   "metadata": {},
   "source": [
    "### 2. ¿Cuántas categorías?"
   ]
  },
  {
   "cell_type": "code",
   "execution_count": 7,
   "metadata": {},
   "outputs": [
    {
     "data": {
      "text/plain": [
       "diferentesCategorias: Long = 41\n"
      ]
     },
     "execution_count": 7,
     "metadata": {},
     "output_type": "execute_result"
    }
   ],
   "source": [
    "val diferentesCategorias = df.select(\"categoria\")\n",
    "                                   .filter(\"categoria is not NULL\")\n",
    "                                   .distinct().count()"
   ]
  },
  {
   "cell_type": "markdown",
   "metadata": {},
   "source": [
    "### 3. ¿Cuántas cadenas comerciales están siendo monitoreadas (y, por lo tanto, reportadas en esa base de datos)?"
   ]
  },
  {
   "cell_type": "code",
   "execution_count": 8,
   "metadata": {},
   "outputs": [
    {
     "data": {
      "text/plain": [
       "totalCadenasComerciales: Long = 705\n"
      ]
     },
     "execution_count": 8,
     "metadata": {},
     "output_type": "execute_result"
    }
   ],
   "source": [
    "val totalCadenasComerciales = df.select(\"cadenaComercial\")\n",
    "                                      .filter(\"cadenaComercial is not NULL\")\n",
    "                                      .distinct().count()"
   ]
  },
  {
   "cell_type": "markdown",
   "metadata": {},
   "source": [
    "### 4. ¿Cuáles son los productos más monitoreados en cada estado de la república?"
   ]
  },
  {
   "cell_type": "code",
   "execution_count": 9,
   "metadata": {},
   "outputs": [
    {
     "data": {
      "text/plain": [
       "estadosProductos: org.apache.spark.sql.DataFrame = [estado: string, producto: string ... 1 more field]\n"
      ]
     },
     "execution_count": 9,
     "metadata": {},
     "output_type": "execute_result"
    }
   ],
   "source": [
    "val estadosProductos = df.where((col(\"estado\").isNotNull) && (col(\"producto\").isNotNull))\n",
    "                                .groupBy(\"estado\",\"producto\")\n",
    "                                .agg(count(\"producto\").alias(\"total\"))\n",
    "                                .select(\"estado\",\"producto\",\"total\")"
   ]
  },
  {
   "cell_type": "code",
   "execution_count": 10,
   "metadata": {},
   "outputs": [
    {
     "name": "stdout",
     "output_type": "stream",
     "text": [
      "+----------------+--------------------+-----+\n",
      "|          estado|            producto|total|\n",
      "+----------------+--------------------+-----+\n",
      "|          MÉXICO|TINTE PARA EL CAB...|44007|\n",
      "|          MÉXICO|         TELEVISORES|29702|\n",
      "|          MÉXICO|              ACELGA| 7691|\n",
      "|          MÉXICO|       QUESO. COTIJA| 4414|\n",
      "|DISTRITO FEDERAL|              AZUCAR|18078|\n",
      "+----------------+--------------------+-----+\n",
      "only showing top 5 rows\n",
      "\n"
     ]
    }
   ],
   "source": [
    "estadosProductos.show(5)"
   ]
  },
  {
   "cell_type": "code",
   "execution_count": 11,
   "metadata": {},
   "outputs": [
    {
     "data": {
      "text/plain": [
       "w: org.apache.spark.sql.expressions.WindowSpec = org.apache.spark.sql.expressions.WindowSpec@8d7ab9\n"
      ]
     },
     "execution_count": 11,
     "metadata": {},
     "output_type": "execute_result"
    }
   ],
   "source": [
    "val w = Window.partitionBy(\"estado\").orderBy(col(\"total\").desc)"
   ]
  },
  {
   "cell_type": "code",
   "execution_count": 12,
   "metadata": {},
   "outputs": [
    {
     "data": {
      "text/plain": [
       "productosMasMonitoreados: org.apache.spark.sql.Dataset[org.apache.spark.sql.Row] = [estado: string, producto: string ... 1 more field]\n"
      ]
     },
     "execution_count": 12,
     "metadata": {},
     "output_type": "execute_result"
    }
   ],
   "source": [
    "val productosMasMonitoreados = estadosProductos.withColumn(\"rn\", row_number().over(w))\n",
    "                           .filter(\"rn == 1\")\n",
    "                           .select(\"estado\", \"producto\",\"total\")\n",
    "                           .orderBy(col(\"total\").desc)"
   ]
  },
  {
   "cell_type": "code",
   "execution_count": 13,
   "metadata": {},
   "outputs": [
    {
     "name": "stdout",
     "output_type": "stream",
     "text": [
      "+--------------------+--------------------+------+\n",
      "|              estado|            producto| total|\n",
      "+--------------------+--------------------+------+\n",
      "|    DISTRITO FEDERAL|            REFRESCO|287463|\n",
      "|              MÉXICO|            REFRESCO|194939|\n",
      "|             JALISCO|            REFRESCO| 81718|\n",
      "|          NUEVO LEÓN|   DETERGENTE P/ROPA| 50307|\n",
      "|          GUANAJUATO|            REFRESCO| 49441|\n",
      "|            TLAXCALA|            REFRESCO| 43904|\n",
      "| MICHOACÁN DE OCAMPO|   DETERGENTE P/ROPA| 40144|\n",
      "|     BAJA CALIFORNIA|            REFRESCO| 37243|\n",
      "|             YUCATÁN|LECHE ULTRAPASTEU...| 35991|\n",
      "|        QUINTANA ROO|                 FUD| 34846|\n",
      "|              SONORA|            REFRESCO| 34731|\n",
      "|             SINALOA|            REFRESCO| 33115|\n",
      "|              PUEBLA|            REFRESCO| 31597|\n",
      "|             TABASCO|            REFRESCO| 28754|\n",
      "|COAHUILA DE ZARAGOZA|                 FUD| 28613|\n",
      "|           QUERÉTARO|LECHE ULTRAPASTEU...| 27868|\n",
      "| BAJA CALIFORNIA SUR|            REFRESCO| 27770|\n",
      "|          TAMAULIPAS|            REFRESCO| 22457|\n",
      "|           ZACATECAS|   DETERGENTE P/ROPA| 20884|\n",
      "|             HIDALGO|            REFRESCO| 18137|\n",
      "+--------------------+--------------------+------+\n",
      "only showing top 20 rows\n",
      "\n"
     ]
    }
   ],
   "source": [
    "productosMasMonitoreados.show()"
   ]
  },
  {
   "cell_type": "markdown",
   "metadata": {},
   "source": [
    "### 5. ¿Cuál es la cadena comercial con mayor variedad de productos monitoreados?"
   ]
  },
  {
   "cell_type": "code",
   "execution_count": 14,
   "metadata": {},
   "outputs": [
    {
     "data": {
      "text/plain": [
       "cadenasComercialesPorProducto: org.apache.spark.sql.Dataset[org.apache.spark.sql.Row] = [cadenaComercial: string, totalProductos: bigint]\n"
      ]
     },
     "execution_count": 14,
     "metadata": {},
     "output_type": "execute_result"
    }
   ],
   "source": [
    "val cadenasComercialesPorProducto= df.filter(\"producto is not NULL\")\n",
    "                                     .groupBy(\"cadenaComercial\") \n",
    "                                     .agg(countDistinct(\"producto\").alias(\"totalProductos\"))\n",
    "                                     .orderBy(desc(\"totalProductos\")).limit(1)"
   ]
  },
  {
   "cell_type": "code",
   "execution_count": 15,
   "metadata": {},
   "outputs": [
    {
     "name": "stdout",
     "output_type": "stream",
     "text": [
      "+---------------+--------------+\n",
      "|cadenaComercial|totalProductos|\n",
      "+---------------+--------------+\n",
      "|        SORIANA|          1059|\n",
      "+---------------+--------------+\n",
      "\n"
     ]
    }
   ],
   "source": [
    "cadenasComercialesPorProducto.show(1)"
   ]
  },
  {
   "cell_type": "code",
   "execution_count": null,
   "metadata": {},
   "outputs": [],
   "source": [
    "spark.stop()"
   ]
  }
 ],
 "metadata": {
  "kernelspec": {
   "display_name": "spylon-kernel",
   "language": "scala",
   "name": "spylon-kernel"
  },
  "language_info": {
   "codemirror_mode": "text/x-scala",
   "file_extension": ".scala",
   "help_links": [
    {
     "text": "MetaKernel Magics",
     "url": "https://metakernel.readthedocs.io/en/latest/source/README.html"
    }
   ],
   "mimetype": "text/x-scala",
   "name": "scala",
   "pygments_lexer": "scala",
   "version": "0.4.1"
  }
 },
 "nbformat": 4,
 "nbformat_minor": 4
}
