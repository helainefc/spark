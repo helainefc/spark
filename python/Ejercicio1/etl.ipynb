{
 "cells": [
  {
   "cell_type": "code",
   "execution_count": 1,
   "metadata": {},
   "outputs": [],
   "source": [
    "from pyspark.sql import SparkSession\n",
    "from pyspark.sql.functions import *\n",
    "import pandas as pd\n"
   ]
  },
  {
   "cell_type": "markdown",
   "metadata": {},
   "source": [
    "### Se crea Session en SPARK"
   ]
  },
  {
   "cell_type": "code",
   "execution_count": 2,
   "metadata": {},
   "outputs": [],
   "source": [
    "spark = SparkSession \\\n",
    "   .builder \\\n",
    "   .config(\"spark.some.config.option\", \"some-values\") \\\n",
    "   .getOrCreate()"
   ]
  },
  {
   "cell_type": "markdown",
   "metadata": {},
   "source": [
    "### Se carga el archivo all_data.csv"
   ]
  },
  {
   "cell_type": "code",
   "execution_count": 3,
   "metadata": {},
   "outputs": [],
   "source": [
    "df_all_data = spark.read.format(\"csv\").option(\"header\", \"true\").load(\"data/all_data.csv\")"
   ]
  },
  {
   "cell_type": "code",
   "execution_count": 11,
   "metadata": {},
   "outputs": [
    {
     "name": "stdout",
     "output_type": "stream",
     "text": [
      "root\n",
      " |-- producto: string (nullable = true)\n",
      " |-- presentacion: string (nullable = true)\n",
      " |-- marca: string (nullable = true)\n",
      " |-- categoria: string (nullable = true)\n",
      " |-- catalogo: string (nullable = true)\n",
      " |-- precio: string (nullable = true)\n",
      " |-- fechaRegistro: string (nullable = true)\n",
      " |-- cadenaComercial: string (nullable = true)\n",
      " |-- giro: string (nullable = true)\n",
      " |-- nombreComercial: string (nullable = true)\n",
      " |-- direccion: string (nullable = true)\n",
      " |-- estado: string (nullable = true)\n",
      " |-- municipio: string (nullable = true)\n",
      " |-- latitud: string (nullable = true)\n",
      " |-- longitud: string (nullable = true)\n",
      "\n"
     ]
    }
   ],
   "source": [
    "df_all_data.printSchema()"
   ]
  },
  {
   "cell_type": "markdown",
   "metadata": {},
   "source": [
    "### 1. ¿Cuántos registros hay?"
   ]
  },
  {
   "cell_type": "code",
   "execution_count": 12,
   "metadata": {},
   "outputs": [
    {
     "data": {
      "text/plain": [
       "62530715"
      ]
     },
     "execution_count": 12,
     "metadata": {},
     "output_type": "execute_result"
    }
   ],
   "source": [
    "df_all_data.count()"
   ]
  },
  {
   "cell_type": "markdown",
   "metadata": {},
   "source": [
    "### 2. ¿Cuántas categorías?"
   ]
  },
  {
   "cell_type": "code",
   "execution_count": 14,
   "metadata": {},
   "outputs": [],
   "source": [
    "categorias = df_all_data.select(\"categoria\")\\\n",
    "                        .filter(\"categoria is not NULL\")\\\n",
    "                        .distinct()"
   ]
  },
  {
   "cell_type": "code",
   "execution_count": 15,
   "metadata": {},
   "outputs": [
    {
     "data": {
      "text/plain": [
       "41"
      ]
     },
     "execution_count": 15,
     "metadata": {},
     "output_type": "execute_result"
    }
   ],
   "source": [
    "categorias.count()"
   ]
  },
  {
   "cell_type": "markdown",
   "metadata": {},
   "source": [
    "### 3. ¿Cuántas cadenas comerciales están siendo monitoreadas (y, por lo tanto, reportadas en esa base de datos)?"
   ]
  },
  {
   "cell_type": "code",
   "execution_count": 4,
   "metadata": {},
   "outputs": [],
   "source": [
    "cadenasComerciales = df_all_data.select(\"cadenaComercial\")\\\n",
    "                        .filter(\"cadenaComercial is not NULL\")\\\n",
    "                        .distinct()"
   ]
  },
  {
   "cell_type": "code",
   "execution_count": 5,
   "metadata": {},
   "outputs": [
    {
     "data": {
      "text/plain": [
       "705"
      ]
     },
     "execution_count": 5,
     "metadata": {},
     "output_type": "execute_result"
    }
   ],
   "source": [
    "cadenasComerciales.count()"
   ]
  },
  {
   "cell_type": "markdown",
   "metadata": {},
   "source": [
    "### 4. ¿Cuáles son los productos más monitoreados en cada estado de la república?"
   ]
  },
  {
   "cell_type": "code",
   "execution_count": 9,
   "metadata": {},
   "outputs": [],
   "source": [
    "productos = df_all_data.where((col('estado').isNotNull()) & (col('producto').isNotNull()))\\\n",
    "                    .groupBy(\"estado\",\"producto\")\\\n",
    "                    .agg(count(\"producto\").alias(\"total\")) \\\n",
    "                    .select(\"estado\",\"producto\",\"total\")"
   ]
  },
  {
   "cell_type": "code",
   "execution_count": 10,
   "metadata": {},
   "outputs": [],
   "source": [
    "from pyspark.sql.window import Window\n",
    "\n",
    "w = Window().partitionBy(\"estado\").orderBy(col(\"total\").desc())\n",
    "\n",
    "productosMasMonitoreados = productos.withColumn(\"rn\", row_number().over(w))\\\n",
    "                           .where(col(\"rn\") == 1)\\\n",
    "                           .select(\"estado\", \"producto\",\"total\")\\\n",
    "                           .orderBy(col(\"total\").desc())"
   ]
  },
  {
   "cell_type": "code",
   "execution_count": 11,
   "metadata": {},
   "outputs": [
    {
     "name": "stdout",
     "output_type": "stream",
     "text": [
      "+----------------+-----------------+------+\n",
      "|          estado|         producto| total|\n",
      "+----------------+-----------------+------+\n",
      "|DISTRITO FEDERAL|         REFRESCO|287463|\n",
      "|          MÉXICO|         REFRESCO|194939|\n",
      "|         JALISCO|         REFRESCO| 81718|\n",
      "|      NUEVO LEÓN|DETERGENTE P/ROPA| 50307|\n",
      "|      GUANAJUATO|         REFRESCO| 49441|\n",
      "+----------------+-----------------+------+\n",
      "only showing top 5 rows\n",
      "\n"
     ]
    }
   ],
   "source": [
    "productosMasMonitoreados.show(5)"
   ]
  },
  {
   "cell_type": "code",
   "execution_count": 12,
   "metadata": {},
   "outputs": [],
   "source": [
    "df_productosMonitoreados = productosMasMonitoreados.toPandas()"
   ]
  },
  {
   "cell_type": "code",
   "execution_count": 13,
   "metadata": {},
   "outputs": [
    {
     "data": {
      "text/html": [
       "<div>\n",
       "<style scoped>\n",
       "    .dataframe tbody tr th:only-of-type {\n",
       "        vertical-align: middle;\n",
       "    }\n",
       "\n",
       "    .dataframe tbody tr th {\n",
       "        vertical-align: top;\n",
       "    }\n",
       "\n",
       "    .dataframe thead th {\n",
       "        text-align: right;\n",
       "    }\n",
       "</style>\n",
       "<table border=\"1\" class=\"dataframe\">\n",
       "  <thead>\n",
       "    <tr style=\"text-align: right;\">\n",
       "      <th></th>\n",
       "      <th>estado</th>\n",
       "      <th>producto</th>\n",
       "      <th>total</th>\n",
       "    </tr>\n",
       "  </thead>\n",
       "  <tbody>\n",
       "    <tr>\n",
       "      <th>0</th>\n",
       "      <td>DISTRITO FEDERAL</td>\n",
       "      <td>REFRESCO</td>\n",
       "      <td>287463</td>\n",
       "    </tr>\n",
       "    <tr>\n",
       "      <th>1</th>\n",
       "      <td>MÉXICO</td>\n",
       "      <td>REFRESCO</td>\n",
       "      <td>194939</td>\n",
       "    </tr>\n",
       "    <tr>\n",
       "      <th>2</th>\n",
       "      <td>JALISCO</td>\n",
       "      <td>REFRESCO</td>\n",
       "      <td>81718</td>\n",
       "    </tr>\n",
       "    <tr>\n",
       "      <th>3</th>\n",
       "      <td>NUEVO LEÓN</td>\n",
       "      <td>DETERGENTE P/ROPA</td>\n",
       "      <td>50307</td>\n",
       "    </tr>\n",
       "    <tr>\n",
       "      <th>4</th>\n",
       "      <td>GUANAJUATO</td>\n",
       "      <td>REFRESCO</td>\n",
       "      <td>49441</td>\n",
       "    </tr>\n",
       "    <tr>\n",
       "      <th>5</th>\n",
       "      <td>TLAXCALA</td>\n",
       "      <td>REFRESCO</td>\n",
       "      <td>43904</td>\n",
       "    </tr>\n",
       "    <tr>\n",
       "      <th>6</th>\n",
       "      <td>MICHOACÁN DE OCAMPO</td>\n",
       "      <td>DETERGENTE P/ROPA</td>\n",
       "      <td>40144</td>\n",
       "    </tr>\n",
       "    <tr>\n",
       "      <th>7</th>\n",
       "      <td>BAJA CALIFORNIA</td>\n",
       "      <td>REFRESCO</td>\n",
       "      <td>37243</td>\n",
       "    </tr>\n",
       "    <tr>\n",
       "      <th>8</th>\n",
       "      <td>YUCATÁN</td>\n",
       "      <td>LECHE ULTRAPASTEURIZADA</td>\n",
       "      <td>35991</td>\n",
       "    </tr>\n",
       "    <tr>\n",
       "      <th>9</th>\n",
       "      <td>QUINTANA ROO</td>\n",
       "      <td>FUD</td>\n",
       "      <td>34846</td>\n",
       "    </tr>\n",
       "    <tr>\n",
       "      <th>10</th>\n",
       "      <td>SONORA</td>\n",
       "      <td>REFRESCO</td>\n",
       "      <td>34731</td>\n",
       "    </tr>\n",
       "    <tr>\n",
       "      <th>11</th>\n",
       "      <td>SINALOA</td>\n",
       "      <td>REFRESCO</td>\n",
       "      <td>33115</td>\n",
       "    </tr>\n",
       "    <tr>\n",
       "      <th>12</th>\n",
       "      <td>PUEBLA</td>\n",
       "      <td>REFRESCO</td>\n",
       "      <td>31597</td>\n",
       "    </tr>\n",
       "    <tr>\n",
       "      <th>13</th>\n",
       "      <td>TABASCO</td>\n",
       "      <td>REFRESCO</td>\n",
       "      <td>28754</td>\n",
       "    </tr>\n",
       "    <tr>\n",
       "      <th>14</th>\n",
       "      <td>COAHUILA DE ZARAGOZA</td>\n",
       "      <td>FUD</td>\n",
       "      <td>28613</td>\n",
       "    </tr>\n",
       "    <tr>\n",
       "      <th>15</th>\n",
       "      <td>QUERÉTARO</td>\n",
       "      <td>LECHE ULTRAPASTEURIZADA</td>\n",
       "      <td>27868</td>\n",
       "    </tr>\n",
       "    <tr>\n",
       "      <th>16</th>\n",
       "      <td>BAJA CALIFORNIA SUR</td>\n",
       "      <td>REFRESCO</td>\n",
       "      <td>27770</td>\n",
       "    </tr>\n",
       "    <tr>\n",
       "      <th>17</th>\n",
       "      <td>TAMAULIPAS</td>\n",
       "      <td>REFRESCO</td>\n",
       "      <td>22457</td>\n",
       "    </tr>\n",
       "    <tr>\n",
       "      <th>18</th>\n",
       "      <td>ZACATECAS</td>\n",
       "      <td>DETERGENTE P/ROPA</td>\n",
       "      <td>20884</td>\n",
       "    </tr>\n",
       "    <tr>\n",
       "      <th>19</th>\n",
       "      <td>HIDALGO</td>\n",
       "      <td>REFRESCO</td>\n",
       "      <td>18137</td>\n",
       "    </tr>\n",
       "    <tr>\n",
       "      <th>20</th>\n",
       "      <td>OAXACA</td>\n",
       "      <td>LECHE ULTRAPASTEURIZADA</td>\n",
       "      <td>18078</td>\n",
       "    </tr>\n",
       "    <tr>\n",
       "      <th>21</th>\n",
       "      <td>COLIMA</td>\n",
       "      <td>DETERGENTE P/ROPA</td>\n",
       "      <td>17193</td>\n",
       "    </tr>\n",
       "    <tr>\n",
       "      <th>22</th>\n",
       "      <td>CHIHUAHUA</td>\n",
       "      <td>DETERGENTE P/ROPA</td>\n",
       "      <td>15982</td>\n",
       "    </tr>\n",
       "    <tr>\n",
       "      <th>23</th>\n",
       "      <td>VERACRUZ DE IGNACIO DE LA LLAVE</td>\n",
       "      <td>REFRESCO</td>\n",
       "      <td>14576</td>\n",
       "    </tr>\n",
       "    <tr>\n",
       "      <th>24</th>\n",
       "      <td>CHIAPAS</td>\n",
       "      <td>REFRESCO</td>\n",
       "      <td>14452</td>\n",
       "    </tr>\n",
       "    <tr>\n",
       "      <th>25</th>\n",
       "      <td>CAMPECHE</td>\n",
       "      <td>FUD</td>\n",
       "      <td>12960</td>\n",
       "    </tr>\n",
       "    <tr>\n",
       "      <th>26</th>\n",
       "      <td>AGUASCALIENTES</td>\n",
       "      <td>FUD</td>\n",
       "      <td>12005</td>\n",
       "    </tr>\n",
       "    <tr>\n",
       "      <th>27</th>\n",
       "      <td>SAN LUIS POTOSÍ</td>\n",
       "      <td>FUD</td>\n",
       "      <td>10164</td>\n",
       "    </tr>\n",
       "    <tr>\n",
       "      <th>28</th>\n",
       "      <td>DURANGO</td>\n",
       "      <td>DETERGENTE P/ROPA</td>\n",
       "      <td>9696</td>\n",
       "    </tr>\n",
       "    <tr>\n",
       "      <th>29</th>\n",
       "      <td>MORELOS</td>\n",
       "      <td>REFRESCO</td>\n",
       "      <td>9632</td>\n",
       "    </tr>\n",
       "    <tr>\n",
       "      <th>30</th>\n",
       "      <td>GUERRERO</td>\n",
       "      <td>REFRESCO</td>\n",
       "      <td>8932</td>\n",
       "    </tr>\n",
       "    <tr>\n",
       "      <th>31</th>\n",
       "      <td>NAYARIT</td>\n",
       "      <td>REFRESCO</td>\n",
       "      <td>8003</td>\n",
       "    </tr>\n",
       "    <tr>\n",
       "      <th>32</th>\n",
       "      <td>COL. EDUARDO GUERRA</td>\n",
       "      <td>REFRESCO</td>\n",
       "      <td>275</td>\n",
       "    </tr>\n",
       "    <tr>\n",
       "      <th>33</th>\n",
       "      <td>ESQ. SUR 125\"</td>\n",
       "      <td>PAN BLANCO BOLILLO</td>\n",
       "      <td>130</td>\n",
       "    </tr>\n",
       "    <tr>\n",
       "      <th>34</th>\n",
       "      <td>estado</td>\n",
       "      <td>producto</td>\n",
       "      <td>20</td>\n",
       "    </tr>\n",
       "  </tbody>\n",
       "</table>\n",
       "</div>"
      ],
      "text/plain": [
       "                             estado                 producto   total\n",
       "0                  DISTRITO FEDERAL                 REFRESCO  287463\n",
       "1                            MÉXICO                 REFRESCO  194939\n",
       "2                           JALISCO                 REFRESCO   81718\n",
       "3                        NUEVO LEÓN        DETERGENTE P/ROPA   50307\n",
       "4                        GUANAJUATO                 REFRESCO   49441\n",
       "5                          TLAXCALA                 REFRESCO   43904\n",
       "6               MICHOACÁN DE OCAMPO        DETERGENTE P/ROPA   40144\n",
       "7                   BAJA CALIFORNIA                 REFRESCO   37243\n",
       "8                           YUCATÁN  LECHE ULTRAPASTEURIZADA   35991\n",
       "9                      QUINTANA ROO                      FUD   34846\n",
       "10                           SONORA                 REFRESCO   34731\n",
       "11                          SINALOA                 REFRESCO   33115\n",
       "12                           PUEBLA                 REFRESCO   31597\n",
       "13                          TABASCO                 REFRESCO   28754\n",
       "14             COAHUILA DE ZARAGOZA                      FUD   28613\n",
       "15                        QUERÉTARO  LECHE ULTRAPASTEURIZADA   27868\n",
       "16              BAJA CALIFORNIA SUR                 REFRESCO   27770\n",
       "17                       TAMAULIPAS                 REFRESCO   22457\n",
       "18                        ZACATECAS        DETERGENTE P/ROPA   20884\n",
       "19                          HIDALGO                 REFRESCO   18137\n",
       "20                           OAXACA  LECHE ULTRAPASTEURIZADA   18078\n",
       "21                           COLIMA        DETERGENTE P/ROPA   17193\n",
       "22                        CHIHUAHUA        DETERGENTE P/ROPA   15982\n",
       "23  VERACRUZ DE IGNACIO DE LA LLAVE                 REFRESCO   14576\n",
       "24                          CHIAPAS                 REFRESCO   14452\n",
       "25                         CAMPECHE                      FUD   12960\n",
       "26                   AGUASCALIENTES                      FUD   12005\n",
       "27                  SAN LUIS POTOSÍ                      FUD   10164\n",
       "28                          DURANGO        DETERGENTE P/ROPA    9696\n",
       "29                          MORELOS                 REFRESCO    9632\n",
       "30                         GUERRERO                 REFRESCO    8932\n",
       "31                          NAYARIT                 REFRESCO    8003\n",
       "32              COL. EDUARDO GUERRA                 REFRESCO     275\n",
       "33                    ESQ. SUR 125\"       PAN BLANCO BOLILLO     130\n",
       "34                           estado                 producto      20"
      ]
     },
     "execution_count": 13,
     "metadata": {},
     "output_type": "execute_result"
    }
   ],
   "source": [
    "df_productosMonitoreados"
   ]
  },
  {
   "cell_type": "markdown",
   "metadata": {},
   "source": [
    "### 5. ¿Cuál es la cadena comercial con mayor variedad de productos monitoreados?"
   ]
  },
  {
   "cell_type": "code",
   "execution_count": 74,
   "metadata": {},
   "outputs": [],
   "source": [
    "cadenasComercialesPorProducto= df_all_data.where(col('producto').isNotNull())\\\n",
    "                              .groupBy('cadenaComercial') \\\n",
    "                              .agg(countDistinct('producto').alias('totalProductos'))\\\n",
    "                              .orderBy(desc('totalProductos')).limit(5)\n"
   ]
  },
  {
   "cell_type": "code",
   "execution_count": 75,
   "metadata": {},
   "outputs": [
    {
     "name": "stdout",
     "output_type": "stream",
     "text": [
      "+--------------------+--------------+\n",
      "|     cadenaComercial|totalProductos|\n",
      "+--------------------+--------------+\n",
      "|             SORIANA|          1059|\n",
      "|            WAL-MART|          1051|\n",
      "|MEGA COMERCIAL ME...|          1049|\n",
      "|  COMERCIAL MEXICANA|          1036|\n",
      "|            CHEDRAUI|          1026|\n",
      "+--------------------+--------------+\n",
      "\n"
     ]
    }
   ],
   "source": [
    "cadenasComercialesPorProducto.show()"
   ]
  },
  {
   "cell_type": "markdown",
   "metadata": {},
   "source": [
    "### Parar session de SPARK"
   ]
  },
  {
   "cell_type": "code",
   "execution_count": null,
   "metadata": {},
   "outputs": [],
   "source": [
    "spark.stop()"
   ]
  }
 ],
 "metadata": {
  "kernelspec": {
   "display_name": "Python 3",
   "language": "python",
   "name": "python3"
  },
  "language_info": {
   "codemirror_mode": {
    "name": "ipython",
    "version": 3
   },
   "file_extension": ".py",
   "mimetype": "text/x-python",
   "name": "python",
   "nbconvert_exporter": "python",
   "pygments_lexer": "ipython3",
   "version": "3.8.4"
  }
 },
 "nbformat": 4,
 "nbformat_minor": 4
}
